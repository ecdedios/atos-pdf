{
 "cells": [
  {
   "cell_type": "code",
   "execution_count": 1,
   "id": "531adbb1",
   "metadata": {},
   "outputs": [],
   "source": [
    "import re\n",
    "import fitz"
   ]
  },
  {
   "cell_type": "code",
   "execution_count": 2,
   "id": "0015eda5",
   "metadata": {},
   "outputs": [],
   "source": [
    "DIGITIZED_FILE = \"../data/in/decreto_2012.pdf\""
   ]
  },
  {
   "cell_type": "code",
   "execution_count": 3,
   "id": "1820898f",
   "metadata": {},
   "outputs": [],
   "source": [
    "# OCR the PDF using the default 'text' parameter\n",
    "corpus = \"\"\n",
    "with fitz.open(DIGITIZED_FILE) as doc:\n",
    "    for page in doc:\n",
    "        corpus = corpus + page.get_text()"
   ]
  },
  {
   "cell_type": "code",
   "execution_count": 4,
   "id": "b3e439ed",
   "metadata": {},
   "outputs": [],
   "source": [
    "# print(corpus)"
   ]
  },
  {
   "cell_type": "code",
   "execution_count": 5,
   "id": "9b77bcd4",
   "metadata": {},
   "outputs": [],
   "source": [
    "start='DECRETO '\n",
    "end='Chefe de Departamento'\n",
    "result=[]\n",
    "temp=corpus.split(start)\n",
    "for part in temp:\n",
    "    if end in part:\n",
    "        result.append(part.split(end)[0])"
   ]
  },
  {
   "cell_type": "code",
   "execution_count": 6,
   "id": "186f2054",
   "metadata": {},
   "outputs": [
    {
     "data": {
      "text/plain": [
       "3"
      ]
     },
     "execution_count": 6,
     "metadata": {},
     "output_type": "execute_result"
    }
   ],
   "source": [
    "len(result)"
   ]
  },
  {
   "cell_type": "code",
   "execution_count": 7,
   "id": "e5fcff50",
   "metadata": {},
   "outputs": [],
   "source": [
    "# for item in result:\n",
    "#     print(\"\\n\\n==============================================================================\")\n",
    "#     print(item)"
   ]
  },
  {
   "cell_type": "code",
   "execution_count": 8,
   "id": "94e8f715",
   "metadata": {},
   "outputs": [
    {
     "data": {
      "text/plain": [
       "'N.º  6.090\\nDE 21 DE MARÇO DE 2012\\nAUTORIZA O SECRETÁRIO MUNICIPAL DE FI-\\nNANÇAS A PROCEDER AO CANCELAMENTO DA\\nINSCRIÇÃO NO CADASTRO NACIONAL DA PES-\\nSOA JURÍDICA (CNPJ) QUE ESPECIFICA, E DÁ\\nOUTRAS PROVIDÊNCIAS.\\nJOÃO PAULO TAVARES PAPA, Prefeito Muni-\\ncipal de Santos, no uso das atribuições que lhe\\nsão conferidas por lei,\\nDECRETA:\\nArt. 1.º Fica o Secretário Municipal de Finan-\\nças autorizado a proceder ao cancelamento da\\ninscrição no Cadastro Nacional da Pessoa Jurídi-\\nca (CNPJ) a seguir referida, a qual encontra-se ina-\\ntiva:\\nI – 46.182.614/0001-32 – Secretaria Municipal\\nde Finanças;\\nArt. 2.º Este decreto entra em vigor na data\\nda publicação.\\nRegistre-se e publique-se.\\nPalácio “José Bonifácio”, em  21 de março de\\n2012.\\nJOÃO PAULO TAVARES PAPA\\nPrefeito Municipal\\nRegistrado no livro competente.\\nDepartamento de Registro de Atos Oficiais do\\nGabinete do Prefeito Municipal, em  21 de março\\nde 2012.\\n ANA PAULA PRADO CARREIRA\\n'"
      ]
     },
     "execution_count": 8,
     "metadata": {},
     "output_type": "execute_result"
    }
   ],
   "source": [
    "result[0]"
   ]
  },
  {
   "cell_type": "code",
   "execution_count": 9,
   "id": "129525f8",
   "metadata": {},
   "outputs": [
    {
     "data": {
      "text/plain": [
       "'Nº   6.091\\nDE 21 DE MARÇO DE 2012\\nAUTORIZA O SECRETÁRIO MUNICIPAL DE\\nGESTÃO A PROCEDER AO CANCELAMENTO DA\\nINSCRIÇÃO NO CADASTRO NACIONAL DA PES-\\nSOA JURÍDICA (CNPJ) QUE ESPECIFICA, E DÁ\\nOUTRAS PROVIDÊNCIAS.\\nJOÃO PAULO TAVARES PAPA, Prefeito Muni-\\ncipal de Santos, no uso das atribuições que lhe\\nsão conferidas por lei,\\nDECRETA:\\nArt. 1.º Fica o Secretário Municipal de Gestão\\nautorizado a proceder ao cancelamento da inscri-\\nção no Cadastro Nacional da Pessoa Jurídica (CNPJ)\\na seguir referida, a qual encontra-se inativa:\\nI – 46.182.655/0001-29 – Secretaria Munici-\\npal de Administração;\\nArt. 2.º Este decreto entra em vigor na data\\nda publicação.\\nRegistre-se e publique-se.\\nPalácio “José Bonifácio”,  em  21 de março de\\n2012.\\n JOÃO PAULO TAVARES PAPA\\nPrefeito Municipal\\nRegistrado no livro competente.\\nDepartamento de Registro de Atos Oficiais do\\nGabinete do Prefeito Municipal,  em  21 de março\\nde 2012.\\nANA PAULA PRADO CARREIRA\\n'"
      ]
     },
     "execution_count": 9,
     "metadata": {},
     "output_type": "execute_result"
    }
   ],
   "source": [
    "result[1]"
   ]
  },
  {
   "cell_type": "code",
   "execution_count": 10,
   "id": "172cf907",
   "metadata": {},
   "outputs": [
    {
     "data": {
      "text/plain": [
       "'Nº 6.092\\nDE 21 DE MARÇO DE 2012\\nDISCIPLINA O PARCELAMENTO ESPECIAL\\nELETRÔNICO DE DÉBITOS FISCAIS DO EXERCÍCIO\\nFINANCEIRO DE 2011 E INSCRITOS NA DÍVIDA\\nATIVA DO MUNICÍPIO NO EXERCÍCIO DE 2012.\\nJOÃO PAULO TAVARES PAPA, Prefeito Muni-\\ncipal de Santos, usando das atribuições que lhe\\nsão conferidas por lei.\\nDECRETA:\\nArt. 1.º Os débitos do exercício financeiro de\\n2011,  inscritos na dívida ativa em 2012, poderão\\nser objeto de parcelamento especial eletrônico\\ndisciplinado por este decreto, devendo o recolhi-\\nmento ocorrer em parcelas mensais iguais e con-\\nsecutivas, de modo que a quitação se dê, integral\\ne impreterivelmente, até o dia 28 de dezembro\\nde 2012.\\nArt. 2.º O contribuinte ou responsável tributá-\\nrio poderá aderir ao parcelamento disponibilizado\\npor meio eletrônico, na rede mundial de compu-\\ntadores, mediante acesso ao site oficial do Muni-\\ncípio de Santos, no endereço eletrônico\\nwww.santos.sp.gov.br, submetendo-se às condi-\\nções estabelecidas neste decreto e constantes do\\nmencionado endereço eletrônico, no período de\\n02 (dois) a 30 (trinta) de abril de 2012.\\nParágrafo único. A adesão também poderá\\nser feita diretamente junto à Seção de Cobrança\\nda Dívida Ativa – SECODI – Procuradoria Fiscal, ins-\\ntalada no posto do POUPATEMPO, situado na Rua\\nJoão Pessoa n.º 246.\\nFORAM BAIXADAS AS SEGUINTES PORTARIAS:\\nPORTARIA Nº 1249-P-DEGEP/2012\\nO PREFEITO MUNICIPAL DE SANTOS, usando\\nATOS DO CHEFE\\nDO PODER EXECUTIVO\\nArt. 3.o Compete ao Departamento de Ges-\\ntão da Tecnologia de Informação e Comunicações\\n– DETIC disponibilizar acesso ao sítio referido no\\nartigo anterior e aos recursos necessários à\\nformalização do parcelamento especial eletrôni-\\nco à população em geral, desde as 8 horas do\\ndia 02 de abril até as 20 (vinte) horas do dia 30 de\\nabril de 2012.\\nArt. 4.º A adesão ao parcelamento implica\\nconfissão irretratável da dívida apontada, aceita-\\nção irrestrita das condições estabelecidas pelo\\nMunicípio e, uma vez efetuada, será emitido o\\nprimeiro boleto bancário com discriminação da\\ndata de vencimento, improrrogável, da primeira\\nparcela, para até o último dia útil do mês de ade-\\nsão, observado o disposto na parte final do artigo\\n2.º deste decreto.\\n§ 1.º Somente após a quitação da primeira\\nparcela é que se considerará consumado o\\nparcelamento, liberando-se a emissão dos boletos\\npara as parcelas vincendas, por meio do site oficial\\ndo Município de Santos no endereço eletrônico\\nwww.santos.sp.gov.br, no link correspondente.\\n§ 2.º Os pagamentos serão efetuados junto\\nà rede bancária autorizada, mediante os respec-\\ntivos boletos bancários.\\n§ 3.º O não pagamento da primeira parcela\\naté a data do seu vencimento implicará rompi-\\nmento do acordo, sendo o débito imediatamente\\nremetido à cobrança judicial com os acréscimos\\nlegais.\\n§ 4.º No caso de atraso no pagamento a partir\\nda segunda parcela do acordo, incidirão juros de\\n1% (um por cento) ao mês ou fração a partir do mês\\nseguinte ao do vencimento constante do boleto.\\nArt. 5.º  Decorrido o prazo previsto no artigo\\n2.º sem que os interessados adiram ao\\nparcelamento especial eletrônico, ou sem que te-\\nnham liquidado a dívida em pagamento integral,\\nos débitos fiscais serão, imediatamente, remeti-\\ndos à cobrança judicial com os acréscimos legais.\\nArt. 6.º Para efeito do parcelamento discipli-\\nnado por este decreto, o montante do débito fis-\\ncal, com os acréscimos previstos em lei, será atu-\\nalizado na data da adesão ou do pedido formu-\\nlado junto à SECODI – Seção de Cobrança da Dívi-\\nda Ativa da Procuradoria Fiscal.\\nArt. 7.º Sobre o valor do débito consolidado\\nincidirão juros de 1% (um por cento) ao mês ou\\nfração, calculados em número correspondente ao\\ntotal de parcelas escolhido, até o limite admitido.\\nArt. 8.º O valor de cada parcela será o resul-\\ntado da divisão do montante apurado na forma\\ndo artigo anterior pelo número de parcelas esco-\\nlhido e admitido pelo sistema, na forma deste\\ndecreto, observado o disposto na parte final do\\nartigo 1.º.\\nArt. 9.º Este decreto entra em vigor na data\\nda publicação.\\nRegistre-se e publique-se.\\nPalácio “José Bonifácio”, em  21 de março de\\n2012.\\nJOÃO PAULO TAVARES PAPA\\nPrefeito Municipal\\nRegistrada no livro competente.\\nDepartamento de Registro de Atos Oficiais do\\nGabinete do Prefeito Municipal, em  21 de março\\nde 2012.\\n ANA PAULA PRADO CARREIRA\\nChefe do Departamento\\ndas atribuições que lhe são conferidas por lei,\\ndetermina que o Sr. HUGO OLIVEIRA DE SOUZA,\\nregistro nº 8.881-5, ocupante do cargo de Técnico\\nAuxiliar de Administração, Nível N-L, do Quadro\\nPermanente, do Grupo de Serviço Administração,\\nEscritório e Fiscalização de Postura, fique à dis-\\nfique à dis-\\nfique à dis-\\nfique à dis-\\nfique à dis-\\nposição\\nposição\\nposição\\nposição\\nposição do IPREV - Instituto de Previdência Social\\ndos Servidores Públicos Municipais de Santos, com\\nprejuízo das funções, mas sem prejuízo dos ven-\\ncimentos e das demais vantagens de seu cargo\\nefetivo, no período de 01 de janeiro a 31 de de-\\nzembro de 2012, com ônus da remuneração e\\nobrigações patronais ao órgão cessionário.\\nRegistre-se, publique-se e cumpra-se.\\nPalácio “José Bonifácio”, em 17 de fevereiro\\nde 2012.\\nJOÃO PAULO TAVARES PAPA\\nPREFEITO MUNICIPAL\\nPORTARIA Nº 1250-P-DEGEP/2012\\nO PREFEITO MUNICIPAL DE SANTOS, usando\\ndas atribuições que lhe são conferidas por lei,\\ndetermina que o Sr. JOSÉ RICARDO MARTINS DI\\nRENZO, registro nº 13.208-4, ocupante do cargo\\nde Médico, Nível N-P, do Quadro Permanente, do\\nGrupo de Serviço Técnico e Científico, fique à dis-\\nfique à dis-\\nfique à dis-\\nfique à dis-\\nfique à dis-\\nposição\\nposição\\nposição\\nposição\\nposição do IPREV - Instituto de Previdência Social\\ndos Servidores Públicos Municipais de Santos, com\\nprejuízo das funções, mas sem prejuízo dos ven-\\ncimentos e das demais vantagens de seu cargo\\nefetivo, no período de 01 de janeiro a 31 de de-\\nzembro de 2012, com ônus da remuneração e\\nobrigações patronais ao órgão cessionário.\\nRegistre-se, publique-se e cumpra-se.\\nPalácio “José Bonifácio”, em 17 de fevereiro\\nde 2012.\\nJOÃO PAULO TAVARES PAPA\\nPREFEITO MUNICIPAL\\nPORTARIA Nº 1251-P-DEGEP/2012\\nO PREFEITO MUNICIPAL DE SANTOS, usando das\\natribuições que lhe são conferidas por lei, determi-\\nna que a Sra. JANE CLEIDE CAVALCANTE LIMA E SIL-\\nVA, registro nº 14.493-1, ocupante do cargo de\\nMédico, Nível N-P, do Quadro Permanente, do Gru-\\npo de Serviço Técnico e Científico, fique à disposi-\\nfique à disposi-\\nfique à disposi-\\nfique à disposi-\\nfique à disposi-\\nção\\nção\\nção\\nção\\nção do IPREV - Instituto de Previdência Social dos\\nServidores Públicos Municipais de Santos, com pre-\\njuízo das funções, mas sem prejuízo dos vencimen-\\ntos e das demais vantagens de seu cargo efetivo,\\nno período de 01 de janeiro a 31 de dezembro de\\n2012, com ônus da remuneração e obrigações\\npatronais ao órgão cessionário.\\nRegistre-se, publique-se e cumpra-se.\\nPalácio “José Bonifácio”, em 17 de fevereiro\\nde 2012.\\nJOÃO PAULO TAVARES PAPA\\nPREFEITO MUNICIPAL\\nPORTARIA Nº 1252-P-DEGEP/2012\\nO PREFEITO MUNICIPAL DE SANTOS, usando das\\natribuições que lhe são conferidas por lei, determina\\nque o Sr. EDMILSON SILVA ARAÚJO, registro nº 15.298-\\n3, ocupante do cargo de Técnico de Contabilidade,\\nNível N-L, do Quadro Permanente, do Grupo de Servi-\\nço Administração, Escritório e Fiscalização de Postura,\\nfique à disposição\\nfique à disposição\\nfique à disposição\\nfique à disposição\\nfique à disposição do IPREV - Instituto de Previdência\\nSocial dos Servidores Públicos Municipais de Santos,\\ncom prejuízo das funções, mas sem prejuízo dos ven-\\ncimentos e das demais vantagens de seu cargo efe-\\ntivo, no período de 01 de janeiro a 31 de dezembro de\\n2012, com ônus da remuneração e obrigações pa-\\ntronais ao órgão cessionário.\\nRegistre-se, publique-se e cumpra-se.\\nPalácio “José Bonifácio”, em 17 de fevereiro\\nde 2012.\\nJOÃO PAULO TAVARES PAPA\\nPREFEITO MUNICIPAL\\n22 de março de 2012\\nSANTOS\\nD I Á R I O  O F I C I A L  D E\\n7\\nSECRETARIA DE\\n FINANÇAS\\nPORTARIA Nº 1253-P-DEGEP/2012\\nO PREFEITO MUNICIPAL DE SANTOS, usando das\\natribuições que lhe são conferidas por lei, determi-\\nna que o Sr. JOSÉ ELÓI DA SILVA, registro nº 16.686-8,\\nocupante do cargo de Orientador de Estacionamento\\nRegulamentado, Nível N-G, do Quadro Permanen-\\nte, do Grupo de Serviço Comunicações e Transpor-\\ntes, fique à disposição\\nfique à disposição\\nfique à disposição\\nfique à disposição\\nfique à disposição do IPREV - Instituto de Previ-\\ndência Social dos Servidores Públicos Municipais de\\nSantos, com prejuízo das funções, mas sem prejuí-\\nzo dos vencimentos e das demais vantagens de seu\\ncargo efetivo, no período de 01 de janeiro a 31 de\\ndezembro de 2012, com ônus da remuneração e\\nobrigações patronais ao órgão cessionário.\\nRegistre-se, publique-se e cumpra-se.\\nPalácio “José Bonifácio”, em 17 de fevereiro\\nde 2012.\\nJOÃO PAULO TAVARES PAPA\\nPREFEITO MUNICIPAL\\nPORTARIA Nº 1254-P-DEGEP/2012\\nO PREFEITO MUNICIPAL DE SANTOS, usando\\ndas atribuições que lhe são conferidas por lei,\\ndetermina que a Sra. MARIA DAS GRAÇAS DA SIL-\\nVA, registro nº 17.385-6, ocupante do cargo de\\nMerendeira, Nível N-D, do Quadro Permanente,\\ndo Grupo de Serviço Profissional, fique à disposi-\\nfique à disposi-\\nfique à disposi-\\nfique à disposi-\\nfique à disposi-\\nção\\nção\\nção\\nção\\nção do IPREV - Instituto de Previdência Social dos\\nServidores Públicos Municipais de Santos, com\\nprejuízo das funções, mas sem prejuízo dos ven-\\ncimentos e das demais vantagens de seu cargo\\nefetivo, no período de 04 de janeiro a 31 de de-\\nzembro de 2012, com ônus da remuneração e\\nobrigações patronais ao órgão cessionário.\\nRegistre-se, publique-se e cumpra-se.\\nPalácio “José Bonifácio”, em 17 de fevereiro\\nde 2012.\\nJOÃO PAULO TAVARES PAPA\\nPREFEITO MUNICIPAL\\nPORTARIA Nº 1255-P-DEGEP/2012\\nO PREFEITO MUNICIPAL DE SANTOS, usando\\ndas atribuições que lhe são conferidas por lei,\\ndetermina que o Sr. WALMIR DOS SANTOS MATOS,\\nregistro nº 20.257-2, ocupante do cargo de Oficial\\nde Administração, Nível N-G, do Quadro Perma-\\nnente, do Grupo de Serviço Administração, Escri-\\ntório e Fiscalização de Postura, fique à disposi-\\nfique à disposi-\\nfique à disposi-\\nfique à disposi-\\nfique à disposi-\\nção\\nção\\nção\\nção\\nção do IPREV - Instituto de Previdência Social dos\\nServidores Públicos Municipais de Santos, com\\nprejuízo das funções, mas sem prejuízo dos ven-\\ncimentos e das demais vantagens de seu cargo\\nefetivo, no período de 29 de janeiro a 31 de de-\\nzembro de 2012, com ônus da remuneração e\\nobrigações patronais ao órgão cessionário.\\nRegistre-se, publique-se e cumpra-se.\\nPalácio “José Bonifácio”, em 17 de fevereiro\\nde 2012.\\nJOÃO PAULO TAVARES PAPA\\nPREFEITO MUNICIPAL\\nPORTARIA Nº 1256-P-DEGEP/2012\\nO PREFEITO MUNICIPAL DE SANTOS, usando\\ndas atribuições que lhe são conferidas por lei,\\ndetermina que o Sr. GILMAR DE ABREU CAMPOS,\\nregistro nº 25.959-8, ocupante do cargo de Ofici-\\nal de Administração, Nível N-G, do Quadro Per-\\nmanente, do Grupo de Serviço Administração, Es-\\ncritório e Fiscalização de Postura, fique à disposi-\\nfique à disposi-\\nfique à disposi-\\nfique à disposi-\\nfique à disposi-\\nção\\nção\\nção\\nção\\nção do IPREV - Instituto de Previdência Social dos\\nServidores Públicos Municipais de Santos, com\\nprejuízo das funções, mas sem prejuízo dos ven-\\ncimentos e das demais vantagens de seu cargo\\nefetivo, no período de 01 de janeiro a 31 de de-\\nzembro de 2012, com ônus da remuneração e\\nobrigações patronais ao órgão cessionário.\\nRegistre-se, publique-se e cumpra-se.\\nPalácio “José Bonifácio”, em 17 de fevereiro\\nde 2012.\\nJOÃO PAULO TAVARES PAPA\\nPREFEITO MUNICIPAL\\nPORTARIA Nº 1258-P-DEGEP/2012\\nO PREFEITO MUNICIPAL DE SANTOS, usando\\ndas atribuições que lhe são conferidas por lei,\\ndetermina que a Sra. BERNADETE DIAS DOS SAN-\\nTOS, registro nº 16.552-2, ocupante do cargo de\\nAssistente Social, Nível N-P, do Quadro Permanen-\\nte, do Grupo de Serviço Técnico e Científico, fique\\nfique\\nfique\\nfique\\nfique\\nà disposição\\nà disposição\\nà disposição\\nà disposição\\nà disposição do IPREV - Instituto de Previdência\\nSocial dos Servidores Públicos Municipais de San-\\ntos, com prejuízo das funções, mas sem prejuízo\\ndos vencimentos e das demais vantagens de seu\\ncargo efetivo, no período de 01 de janeiro a 31 de\\ndezembro de 2012, com ônus da remuneração e\\nobrigações patronais ao órgão cessionário.\\nRegistre-se, publique-se e cumpra-se.\\nPalácio “José Bonifácio”, em 17 de fevereiro\\nde 2012.\\nJOÃO PAULO TAVARES PAPA\\nPREFEITO MUNICIPAL\\nPORTARIA Nº 1259-P-DEGEP/2012\\nO PREFEITO MUNICIPAL DE SANTOS, usando\\ndas atribuições que lhe são conferidas por lei,\\ndetermina que a Sra. MARIA DENISE BITENCOURT\\nDA SILVA, registro nº 22.587-0, ocupante do cargo\\nde Auxiliar de Enfermagem, Nível N-G, do Quadro\\nPermanente, do Grupo de Serviço Profissional, fi-\\nfi-\\nfi-\\nfi-\\nfi-\\nque à disposição\\nque à disposição\\nque à disposição\\nque à disposição\\nque à disposição do IPREV - Instituto de Previdên-\\ncia Social dos Servidores Públicos Municipais de\\nSantos, com prejuízo das funções, mas sem pre-\\njuízo dos vencimentos e das demais vantagens\\nde seu cargo efetivo, no período de 01 de janeiro\\na 31 de dezembro de 2012, com ônus da remune-\\nração e obrigações patronais ao órgão\\ncessionário.\\nRegistre-se, publique-se e cumpra-se.\\nPalácio “José Bonifácio”, em 17 de fevereiro\\nde 2012.\\nJOÃO PAULO TAVARES PAPA\\nPREFEITO MUNICIPAL\\nATOS DO CHEFE DO DEPARTAMENTO\\nDE FISCALIZAÇÃO DE MERCADOS\\nE COMÉRCIO VIÁRIO\\nEDITAL DE CONVOCAÇÃO\\n O Chefe do Departamento de Fiscalização de Mercados e Comércio Viário, convoca os permissionários\\nabaixo relacionados à comparecer no dia 27 de março de 2012, às 16h, no Departamento de Fiscalização\\nde Mercados e Comércio Viário, sito a Rua Cidade de Toledo n°25, para tratar de assunto referente à Cam-\\npanha de Frutas.\\nBernard Tavares da Silva\\nBarraca n° 019\\nI.M. nº 187.401-5\\nJosé Valente de Andrade\\nBarraca nº 009\\nI.M. nº 5.546-6\\nCLAUDIO ROBERTO DOS SANTOS\\n'"
      ]
     },
     "execution_count": 10,
     "metadata": {},
     "output_type": "execute_result"
    }
   ],
   "source": [
    "result[2]  # What is the difference between \"Chefe do\" and \"Chefe de\" ???"
   ]
  },
  {
   "cell_type": "code",
   "execution_count": null,
   "id": "5a7a10b4",
   "metadata": {},
   "outputs": [],
   "source": []
  }
 ],
 "metadata": {
  "kernelspec": {
   "display_name": "Python 3 (ipykernel)",
   "language": "python",
   "name": "python3"
  },
  "language_info": {
   "codemirror_mode": {
    "name": "ipython",
    "version": 3
   },
   "file_extension": ".py",
   "mimetype": "text/x-python",
   "name": "python",
   "nbconvert_exporter": "python",
   "pygments_lexer": "ipython3",
   "version": "3.9.9"
  }
 },
 "nbformat": 4,
 "nbformat_minor": 5
}
